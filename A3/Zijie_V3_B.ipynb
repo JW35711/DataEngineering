{
 "cells": [
  {
   "cell_type": "code",
   "execution_count": 3,
   "id": "9647a9f2-db00-4458-a0ef-1a7577e2f7c7",
   "metadata": {},
   "outputs": [],
   "source": [
    "from pyspark.sql import SparkSession\n",
    "from operator import add\n",
    "\n",
    "spark_session = SparkSession.builder \\\n",
    "        .master(\"spark://192.168.2.156:7077\") \\\n",
    "        .appName(\"Zijie_V3_B\") \\\n",
    "        .config(\"spark.dynamicAllocation.enabled\", True) \\\n",
    "        .config(\"spark.dynamicAllocation.shuffleTracking.enabled\", True) \\\n",
    "        .config(\"spark.shuffle.service.enabled\", False) \\\n",
    "        .config(\"spark.dynamicAllocation.executorIdleTimeout\", \"30s\") \\\n",
    "        .config(\"spark.executor.cores\", 2) \\\n",
    "        .config(\"spark.driver.port\", 9999) \\\n",
    "        .config(\"spark.blockManager.port\", 10005) \\\n",
    "        .getOrCreate()\n",
    "\n",
    "# RDD API\n",
    "spark_context = spark_session.sparkContext\n",
    "spark_context.setLogLevel(\"ERROR\")"
   ]
  },
  {
   "cell_type": "code",
   "execution_count": null,
   "id": "a34cfd5b-dcbf-43d6-9064-b21a01151386",
   "metadata": {},
   "outputs": [],
   "source": [
    "spark_session.stop()"
   ]
  },
  {
   "cell_type": "markdown",
   "id": "a46d506c-7ad4-4197-839b-707cf83b5586",
   "metadata": {},
   "source": [
    "B.1"
   ]
  },
  {
   "cell_type": "code",
   "execution_count": 11,
   "id": "0550fc30-5115-47e7-87c2-b04aa2af82c1",
   "metadata": {},
   "outputs": [
    {
     "name": "stderr",
     "output_type": "stream",
     "text": [
      "                                                                                "
     ]
    },
    {
     "name": "stdout",
     "output_type": "stream",
     "text": [
      "+-------------+-------------------+----------+--------+-----------+--------------+-----------------+----+----+----------+-----+--------------------+-----+------+--------------+---------------------+-----------+---------+---------+------------------+-----------------+----------------------+\n",
      "|Ticket number|         Issue Date|Issue time|Meter Id|Marked Time|RP State Plate|Plate Expiry Date| VIN|Make|Body Style|Color|            Location|Route|Agency|Violation code|Violation Description|Fine amount| Latitude|Longitude|Agency Description|Color Description|Body Style Description|\n",
      "+-------------+-------------------+----------+--------+-----------+--------------+-----------------+----+----+----------+-----+--------------------+-----+------+--------------+---------------------+-----------+---------+---------+------------------+-----------------+----------------------+\n",
      "|   1103341116|2015-12-21 00:00:00|    1251.0|    NULL|       NULL|            CA|         200304.0|NULL|HOND|        PA|   GY|     13147 WELBY WAY|01521|   1.0|        4000A1|   NO EVIDENCE OF REG|       50.0|  99999.0|  99999.0|              NULL|             NULL|                  NULL|\n",
      "|   1103700150|2015-12-21 00:00:00|    1435.0|    NULL|       NULL|            CA|         201512.0|NULL| GMC|        VN|   WH|       525 S MAIN ST| 1C51|   1.0|        4000A1|   NO EVIDENCE OF REG|       50.0|  99999.0|  99999.0|              NULL|             NULL|                  NULL|\n",
      "|   1104803000|2015-12-21 00:00:00|    2055.0|    NULL|       NULL|            CA|         201503.0|NULL|NISS|        PA|   BK|       200 WORLD WAY|  2R2|   2.0|          8939|           WHITE CURB|       58.0|6439997.9|1802686.4|              NULL|             NULL|                  NULL|\n",
      "|   1104820732|2015-12-26 00:00:00|    1515.0|    NULL|       NULL|            CA|             NULL|NULL|ACUR|        PA|   WH|       100 WORLD WAY| 2F11|   2.0|           000|               17104h|       NULL|6440041.1|1802686.2|              NULL|             NULL|                  NULL|\n",
      "|   1105461453|2015-09-15 00:00:00|     115.0|    NULL|       NULL|            CA|         200316.0|NULL|CHEV|        PA|   BK|  GEORGIA ST/OLYMPIC|1FB70|   1.0|         8069A| NO STOPPING/STANDING|       93.0|  99999.0|  99999.0|              NULL|             NULL|                  NULL|\n",
      "|   1106226590|2015-09-15 00:00:00|      19.0|    NULL|       NULL|            CA|         201507.0|NULL|CHEV|        VN|   GY|  SAN PEDRO S/O BOYD|1A35W|   1.0|        4000A1|   NO EVIDENCE OF REG|       50.0|  99999.0|  99999.0|              NULL|             NULL|                  NULL|\n",
      "|   1106500452|2015-12-17 00:00:00|    1710.0|    NULL|       NULL|            CA|         201605.0|NULL|MAZD|        PA|   BL|     SUNSET/ALVARADO|00217|   1.0|          8070| PARK IN GRID LOCK ZN|      163.0|  99999.0|  99999.0|              NULL|             NULL|                  NULL|\n",
      "|   1106500463|2015-12-17 00:00:00|    1710.0|    NULL|       NULL|            CA|         201602.0|NULL|TOYO|        PA|   BK|     SUNSET/ALVARADO|00217|   1.0|          8070| PARK IN GRID LOCK ZN|      163.0|  99999.0|  99999.0|              NULL|             NULL|                  NULL|\n",
      "|   1106506402|2015-12-22 00:00:00|     945.0|    NULL|       NULL|            CA|         201605.0|NULL|CHEV|        PA|   BR|      721 S WESTLAKE| 2A75|   1.0|        8069AA|     NO STOP/STAND AM|       93.0|  99999.0|  99999.0|              NULL|             NULL|                  NULL|\n",
      "|   1106506413|2015-12-22 00:00:00|    1100.0|    NULL|       NULL|            CA|         201701.0|NULL|NISS|        PA|   SI|     1159 HUNTLEY DR| 2A75|   1.0|        8069AA|     NO STOP/STAND AM|       93.0|  99999.0|  99999.0|              NULL|             NULL|                  NULL|\n",
      "|   1106506424|2015-12-22 00:00:00|    1100.0|    NULL|       NULL|            CA|         201511.0|NULL|FORD|        TR|   WH|     1159 HUNTLEY DR| 2A75|   1.0|        8069AA|     NO STOP/STAND AM|       93.0|  99999.0|  99999.0|              NULL|             NULL|                  NULL|\n",
      "|   1106506435|2015-12-22 00:00:00|    1105.0|    NULL|       NULL|            CA|         201701.0|NULL|CHRY|        PA|   GO|     1159 HUNTLEY DR| 2A75|   1.0|        8069AA|     NO STOP/STAND AM|       93.0|  99999.0|  99999.0|              NULL|             NULL|                  NULL|\n",
      "|   1106506446|2015-12-22 00:00:00|    1110.0|    NULL|       NULL|            CA|         201511.0|NULL| BMW|        PA|   BK|      1200 W MIRAMAR| 2A75|   1.0|        4000A1|   NO EVIDENCE OF REG|       50.0|  99999.0|  99999.0|              NULL|             NULL|                  NULL|\n",
      "|   1106549754|2015-12-15 00:00:00|     825.0|    NULL|       NULL|            CA|         201607.0|NULL|PTRB|        TR|   BK|           4TH/STATE| CM96|   1.0|         8069A| NO STOPPING/STANDING|       93.0|  99999.0|  99999.0|              NULL|             NULL|                  NULL|\n",
      "|   1107179581|2015-12-27 00:00:00|    1055.0|    NULL|       NULL|            CA|         201605.0|NULL|TOYO|        PA|   BK|3100 N HOLLYRIDGE DR| NULL|  54.0|         8058L|         PREF PARKING|       68.0|  99999.0|  99999.0|              NULL|             NULL|                  NULL|\n",
      "|   1107179592|2015-12-27 00:00:00|    1200.0|    NULL|       NULL|            CA|         201602.0|NULL|MBNZ|        PA|   BK|   3115 N BERENDO DR| NULL|  54.0|         8058L|         PREF PARKING|       68.0|  99999.0|  99999.0|              NULL|             NULL|                  NULL|\n",
      "|   1107179603|2015-12-27 00:00:00|    1400.0|    NULL|       NULL|            CA|         201611.0|NULL|NISS|        PA|   WH| 3100 N BEACHWOOD DR| NULL|  54.0|         8058L|         PREF PARKING|       68.0|  99999.0|  99999.0|              NULL|             NULL|                  NULL|\n",
      "|   1107539823|2015-09-16 00:00:00|    2120.0|    NULL|       NULL|            CA|         201502.0|NULL|NISS|        PA| NULL|      BLAINE/11TH PL|1FB95|   1.0|        4000A1|   NO EVIDENCE OF REG|       50.0|  99999.0|  99999.0|              NULL|             NULL|                  NULL|\n",
      "|   1107539834|2015-09-16 00:00:00|    1045.0|    NULL|       NULL|            CA|             NULL|NULL|CHEV|        PA|   BK|  1246 S FIGUEROA ST| 1L20|   1.0|        8069AP|     NO STOP/STAND PM|       93.0|  99999.0|  99999.0|              NULL|             NULL|                  NULL|\n",
      "|   1107780811|2015-12-22 00:00:00|    1102.0|    NULL|       NULL|            CA|         201606.0|NULL|HOND|        PA|   BK|       PLATA/RAMPART|  2A1|   1.0|         8069B|           NO PARKING|       73.0|  99999.0|  99999.0|              NULL|             NULL|                  NULL|\n",
      "+-------------+-------------------+----------+--------+-----------+--------------+-----------------+----+----+----------+-----+--------------------+-----+------+--------------+---------------------+-----------+---------+---------+------------------+-----------------+----------------------+\n",
      "only showing top 20 rows\n",
      "\n"
     ]
    },
    {
     "name": "stderr",
     "output_type": "stream",
     "text": [
      "[Stage 39:====================================================>   (15 + 1) / 16]"
     ]
    },
    {
     "name": "stdout",
     "output_type": "stream",
     "text": [
      "Number of rows in the dataset: 13077724\n"
     ]
    },
    {
     "name": "stderr",
     "output_type": "stream",
     "text": [
      "                                                                                "
     ]
    }
   ],
   "source": [
    "from pyspark.sql import SparkSession\n",
    "\n",
    "# Load CSV file from HDFS\n",
    "df = spark.read.csv(\"hdfs://192.168.2.156:9000/data/los-angeles-parking-citations/parking-citations.csv\", header=True, inferSchema=True)\n",
    "\n",
    "# Show the first few rows to verify loading\n",
    "df.show()\n",
    "\n",
    "# Count the number of rows in the DataFrame\n",
    "row_count = df.count()\n",
    "print(\"Number of rows in the dataset:\", row_count)\n"
   ]
  },
  {
   "cell_type": "markdown",
   "id": "dbb1446a-1684-4780-9c1f-95158d554792",
   "metadata": {},
   "source": [
    "B.2"
   ]
  },
  {
   "cell_type": "code",
   "execution_count": 12,
   "id": "d6489d70-a7ff-44c1-979a-93594e130b03",
   "metadata": {},
   "outputs": [
    {
     "name": "stdout",
     "output_type": "stream",
     "text": [
      "root\n",
      " |-- Ticket number: string (nullable = true)\n",
      " |-- Issue Date: timestamp (nullable = true)\n",
      " |-- Issue time: double (nullable = true)\n",
      " |-- Meter Id: string (nullable = true)\n",
      " |-- Marked Time: double (nullable = true)\n",
      " |-- RP State Plate: string (nullable = true)\n",
      " |-- Plate Expiry Date: double (nullable = true)\n",
      " |-- VIN: string (nullable = true)\n",
      " |-- Make: string (nullable = true)\n",
      " |-- Body Style: string (nullable = true)\n",
      " |-- Color: string (nullable = true)\n",
      " |-- Location: string (nullable = true)\n",
      " |-- Route: string (nullable = true)\n",
      " |-- Agency: double (nullable = true)\n",
      " |-- Violation code: string (nullable = true)\n",
      " |-- Violation Description: string (nullable = true)\n",
      " |-- Fine amount: double (nullable = true)\n",
      " |-- Latitude: double (nullable = true)\n",
      " |-- Longitude: double (nullable = true)\n",
      " |-- Agency Description: string (nullable = true)\n",
      " |-- Color Description: string (nullable = true)\n",
      " |-- Body Style Description: string (nullable = true)\n",
      "\n"
     ]
    }
   ],
   "source": [
    "# Print the schema of the DataFrame\n",
    "df.printSchema()\n"
   ]
  },
  {
   "cell_type": "markdown",
   "id": "bac1bf01-7604-46f1-8d26-919ba2e79a57",
   "metadata": {},
   "source": [
    "B.3"
   ]
  },
  {
   "cell_type": "code",
   "execution_count": 13,
   "id": "c2124aa7-5eff-4f1b-9dc8-4ce0c2dd215d",
   "metadata": {},
   "outputs": [
    {
     "name": "stderr",
     "output_type": "stream",
     "text": [
      "[Stage 42:====================================================>   (15 + 1) / 16]"
     ]
    },
    {
     "name": "stdout",
     "output_type": "stream",
     "text": [
      "Number of rows in the dataset: 13077724\n"
     ]
    },
    {
     "name": "stderr",
     "output_type": "stream",
     "text": [
      "                                                                                "
     ]
    }
   ],
   "source": [
    "# Count the number of rows in the DataFrame\n",
    "row_count = df.count()\n",
    "print(\"Number of rows in the dataset:\", row_count)\n"
   ]
  },
  {
   "cell_type": "markdown",
   "id": "14c8e27f-e3ee-46bd-a279-d3564572cbde",
   "metadata": {},
   "source": [
    "B.4"
   ]
  },
  {
   "cell_type": "code",
   "execution_count": 14,
   "id": "f0337de2-deaf-4b55-897b-2c3b77e3a03d",
   "metadata": {},
   "outputs": [
    {
     "name": "stdout",
     "output_type": "stream",
     "text": [
      "Number of partitions: 16\n"
     ]
    }
   ],
   "source": [
    "# Get the number of partitions in the underlying RDD\n",
    "num_partitions = df.rdd.getNumPartitions()\n",
    "print(\"Number of partitions:\", num_partitions)\n"
   ]
  },
  {
   "cell_type": "markdown",
   "id": "82a62709-9c02-46ad-a05d-83b80deba556",
   "metadata": {},
   "source": [
    "B.5"
   ]
  },
  {
   "cell_type": "code",
   "execution_count": 17,
   "id": "0c7864b7-fba2-45da-bbde-ff20b0e37c47",
   "metadata": {},
   "outputs": [
    {
     "name": "stderr",
     "output_type": "stream",
     "text": [
      "[Stage 46:>                                                         (0 + 1) / 1]"
     ]
    },
    {
     "name": "stdout",
     "output_type": "stream",
     "text": [
      "+-------------+-------------------+----------+--------+-----------+--------------+-----------------+----+----------+-----+--------------------+-----+------+--------------+---------------------+-----------+------------------+-----------------+----------------------+\n",
      "|Ticket number|         Issue Date|Issue time|Meter Id|Marked Time|RP State Plate|Plate Expiry Date|Make|Body Style|Color|            Location|Route|Agency|Violation code|Violation Description|Fine amount|Agency Description|Color Description|Body Style Description|\n",
      "+-------------+-------------------+----------+--------+-----------+--------------+-----------------+----+----------+-----+--------------------+-----+------+--------------+---------------------+-----------+------------------+-----------------+----------------------+\n",
      "|   1103341116|2015-12-21 00:00:00|    1251.0|    NULL|       NULL|            CA|         200304.0|HOND|        PA|   GY|     13147 WELBY WAY|01521|   1.0|        4000A1|   NO EVIDENCE OF REG|       50.0|              NULL|             NULL|                  NULL|\n",
      "|   1103700150|2015-12-21 00:00:00|    1435.0|    NULL|       NULL|            CA|         201512.0| GMC|        VN|   WH|       525 S MAIN ST| 1C51|   1.0|        4000A1|   NO EVIDENCE OF REG|       50.0|              NULL|             NULL|                  NULL|\n",
      "|   1104803000|2015-12-21 00:00:00|    2055.0|    NULL|       NULL|            CA|         201503.0|NISS|        PA|   BK|       200 WORLD WAY|  2R2|   2.0|          8939|           WHITE CURB|       58.0|              NULL|             NULL|                  NULL|\n",
      "|   1104820732|2015-12-26 00:00:00|    1515.0|    NULL|       NULL|            CA|             NULL|ACUR|        PA|   WH|       100 WORLD WAY| 2F11|   2.0|           000|               17104h|       NULL|              NULL|             NULL|                  NULL|\n",
      "|   1105461453|2015-09-15 00:00:00|     115.0|    NULL|       NULL|            CA|         200316.0|CHEV|        PA|   BK|  GEORGIA ST/OLYMPIC|1FB70|   1.0|         8069A| NO STOPPING/STANDING|       93.0|              NULL|             NULL|                  NULL|\n",
      "|   1106226590|2015-09-15 00:00:00|      19.0|    NULL|       NULL|            CA|         201507.0|CHEV|        VN|   GY|  SAN PEDRO S/O BOYD|1A35W|   1.0|        4000A1|   NO EVIDENCE OF REG|       50.0|              NULL|             NULL|                  NULL|\n",
      "|   1106500452|2015-12-17 00:00:00|    1710.0|    NULL|       NULL|            CA|         201605.0|MAZD|        PA|   BL|     SUNSET/ALVARADO|00217|   1.0|          8070| PARK IN GRID LOCK ZN|      163.0|              NULL|             NULL|                  NULL|\n",
      "|   1106500463|2015-12-17 00:00:00|    1710.0|    NULL|       NULL|            CA|         201602.0|TOYO|        PA|   BK|     SUNSET/ALVARADO|00217|   1.0|          8070| PARK IN GRID LOCK ZN|      163.0|              NULL|             NULL|                  NULL|\n",
      "|   1106506402|2015-12-22 00:00:00|     945.0|    NULL|       NULL|            CA|         201605.0|CHEV|        PA|   BR|      721 S WESTLAKE| 2A75|   1.0|        8069AA|     NO STOP/STAND AM|       93.0|              NULL|             NULL|                  NULL|\n",
      "|   1106506413|2015-12-22 00:00:00|    1100.0|    NULL|       NULL|            CA|         201701.0|NISS|        PA|   SI|     1159 HUNTLEY DR| 2A75|   1.0|        8069AA|     NO STOP/STAND AM|       93.0|              NULL|             NULL|                  NULL|\n",
      "|   1106506424|2015-12-22 00:00:00|    1100.0|    NULL|       NULL|            CA|         201511.0|FORD|        TR|   WH|     1159 HUNTLEY DR| 2A75|   1.0|        8069AA|     NO STOP/STAND AM|       93.0|              NULL|             NULL|                  NULL|\n",
      "|   1106506435|2015-12-22 00:00:00|    1105.0|    NULL|       NULL|            CA|         201701.0|CHRY|        PA|   GO|     1159 HUNTLEY DR| 2A75|   1.0|        8069AA|     NO STOP/STAND AM|       93.0|              NULL|             NULL|                  NULL|\n",
      "|   1106506446|2015-12-22 00:00:00|    1110.0|    NULL|       NULL|            CA|         201511.0| BMW|        PA|   BK|      1200 W MIRAMAR| 2A75|   1.0|        4000A1|   NO EVIDENCE OF REG|       50.0|              NULL|             NULL|                  NULL|\n",
      "|   1106549754|2015-12-15 00:00:00|     825.0|    NULL|       NULL|            CA|         201607.0|PTRB|        TR|   BK|           4TH/STATE| CM96|   1.0|         8069A| NO STOPPING/STANDING|       93.0|              NULL|             NULL|                  NULL|\n",
      "|   1107179581|2015-12-27 00:00:00|    1055.0|    NULL|       NULL|            CA|         201605.0|TOYO|        PA|   BK|3100 N HOLLYRIDGE DR| NULL|  54.0|         8058L|         PREF PARKING|       68.0|              NULL|             NULL|                  NULL|\n",
      "|   1107179592|2015-12-27 00:00:00|    1200.0|    NULL|       NULL|            CA|         201602.0|MBNZ|        PA|   BK|   3115 N BERENDO DR| NULL|  54.0|         8058L|         PREF PARKING|       68.0|              NULL|             NULL|                  NULL|\n",
      "|   1107179603|2015-12-27 00:00:00|    1400.0|    NULL|       NULL|            CA|         201611.0|NISS|        PA|   WH| 3100 N BEACHWOOD DR| NULL|  54.0|         8058L|         PREF PARKING|       68.0|              NULL|             NULL|                  NULL|\n",
      "|   1107539823|2015-09-16 00:00:00|    2120.0|    NULL|       NULL|            CA|         201502.0|NISS|        PA| NULL|      BLAINE/11TH PL|1FB95|   1.0|        4000A1|   NO EVIDENCE OF REG|       50.0|              NULL|             NULL|                  NULL|\n",
      "|   1107539834|2015-09-16 00:00:00|    1045.0|    NULL|       NULL|            CA|             NULL|CHEV|        PA|   BK|  1246 S FIGUEROA ST| 1L20|   1.0|        8069AP|     NO STOP/STAND PM|       93.0|              NULL|             NULL|                  NULL|\n",
      "|   1107780811|2015-12-22 00:00:00|    1102.0|    NULL|       NULL|            CA|         201606.0|HOND|        PA|   BK|       PLATA/RAMPART|  2A1|   1.0|         8069B|           NO PARKING|       73.0|              NULL|             NULL|                  NULL|\n",
      "+-------------+-------------------+----------+--------+-----------+--------------+-----------------+----+----------+-----+--------------------+-----+------+--------------+---------------------+-----------+------------------+-----------------+----------------------+\n",
      "only showing top 20 rows\n",
      "\n"
     ]
    },
    {
     "name": "stderr",
     "output_type": "stream",
     "text": [
      "                                                                                "
     ]
    }
   ],
   "source": [
    "# Drop the specified columns\n",
    "df = df.drop(\"VIN\", \"Latitude\", \"Longitude\")\n",
    "\n",
    "# Show the updated DataFrame to verify\n",
    "df.show()\n"
   ]
  },
  {
   "cell_type": "markdown",
   "id": "831e680b-4bff-4126-99e7-216836a6c1fc",
   "metadata": {},
   "source": [
    "B.6"
   ]
  },
  {
   "cell_type": "code",
   "execution_count": 18,
   "id": "7dc6290a-4b22-475a-9107-6744e52a95fd",
   "metadata": {},
   "outputs": [
    {
     "name": "stderr",
     "output_type": "stream",
     "text": [
      "                                                                                "
     ]
    },
    {
     "name": "stdout",
     "output_type": "stream",
     "text": [
      "Maximum fine amount: 1100.0\n"
     ]
    },
    {
     "name": "stderr",
     "output_type": "stream",
     "text": [
      "25/03/10 12:57:00 ERROR TransportClient: Failed to send RPC RPC 8329072705657477534 to /192.168.2.237:50210: io.netty.channel.StacklessClosedChannelException\n",
      "io.netty.channel.StacklessClosedChannelException\n",
      "\tat io.netty.channel.AbstractChannel$AbstractUnsafe.write(Object, ChannelPromise)(Unknown Source)\n",
      "[Stage 50:=============================================>          (13 + 3) / 16]"
     ]
    },
    {
     "name": "stdout",
     "output_type": "stream",
     "text": [
      "Number of fines with the maximum amount (1100.0): 626\n"
     ]
    },
    {
     "name": "stderr",
     "output_type": "stream",
     "text": [
      "                                                                                "
     ]
    }
   ],
   "source": [
    "from pyspark.sql.functions import col, max\n",
    "\n",
    "# Convert 'Fine amount' column to float (if it's not already)\n",
    "df = df.withColumn(\"Fine amount\", col(\"Fine amount\").cast(\"float\"))\n",
    "\n",
    "# Find the maximum fine amount\n",
    "max_fine = df.select(max(\"Fine amount\")).collect()[0][0]\n",
    "print(\"Maximum fine amount:\", max_fine)\n",
    "\n",
    "# Count the number of fines with this maximum amount\n",
    "max_fine_count = df.filter(col(\"Fine amount\") == max_fine).count()\n",
    "print(f\"Number of fines with the maximum amount ({max_fine}):\", max_fine_count)\n"
   ]
  },
  {
   "cell_type": "markdown",
   "id": "5371f8c0-259f-4ad9-a608-867099c83931",
   "metadata": {},
   "source": [
    "B.7"
   ]
  },
  {
   "cell_type": "code",
   "execution_count": 19,
   "id": "64c88d81-26d0-4c0b-a34c-7b7b4537d3a9",
   "metadata": {},
   "outputs": [
    {
     "name": "stderr",
     "output_type": "stream",
     "text": [
      "                                                                                "
     ]
    },
    {
     "name": "stdout",
     "output_type": "stream",
     "text": [
      "+----+-------+\n",
      "|Make|count  |\n",
      "+----+-------+\n",
      "|TOYT|2150768|\n",
      "|HOND|1479996|\n",
      "|FORD|1116235|\n",
      "|NISS|945133 |\n",
      "|CHEV|892676 |\n",
      "|BMW |603092 |\n",
      "|MERZ|543298 |\n",
      "|VOLK|432030 |\n",
      "|HYUN|404917 |\n",
      "|DODG|391686 |\n",
      "|LEXS|368420 |\n",
      "|KIA |328155 |\n",
      "|JEEP|316300 |\n",
      "|AUDI|255395 |\n",
      "|MAZD|242344 |\n",
      "|OTHR|205546 |\n",
      "|GMC |184889 |\n",
      "|INFI|174315 |\n",
      "|CHRY|159948 |\n",
      "|SUBA|154640 |\n",
      "+----+-------+\n",
      "\n"
     ]
    }
   ],
   "source": [
    "from pyspark.sql.functions import col, count\n",
    "\n",
    "# Count occurrences of each vehicle make\n",
    "top_vehicle_makes = df.groupBy(\"Make\") \\\n",
    "    .agg(count(\"*\").alias(\"count\")) \\\n",
    "    .orderBy(col(\"count\").desc()) \\\n",
    "    .limit(20)\n",
    "\n",
    "# Show the top 20 most frequent vehicle makes\n",
    "top_vehicle_makes.show(20, truncate=False)\n"
   ]
  },
  {
   "cell_type": "markdown",
   "id": "a959d9df-389c-4a12-8154-3e482a0fd00b",
   "metadata": {},
   "source": [
    "B.8"
   ]
  },
  {
   "cell_type": "code",
   "execution_count": 20,
   "id": "46ffb974-31a7-4544-b13b-2b5d2ad24352",
   "metadata": {},
   "outputs": [
    {
     "name": "stderr",
     "output_type": "stream",
     "text": [
      "[Stage 56:>                                                         (0 + 1) / 1]"
     ]
    },
    {
     "name": "stdout",
     "output_type": "stream",
     "text": [
      "+-----+----------+\n",
      "|Color|color_long|\n",
      "+-----+----------+\n",
      "|GY   |Gray      |\n",
      "|WH   |White     |\n",
      "|BK   |Black     |\n",
      "|WH   |White     |\n",
      "|BK   |Black     |\n",
      "|GY   |Gray      |\n",
      "|BL   |Blue      |\n",
      "|BK   |Black     |\n",
      "|BR   |Brown     |\n",
      "|SI   |Silver    |\n",
      "+-----+----------+\n",
      "only showing top 10 rows\n",
      "\n"
     ]
    },
    {
     "name": "stderr",
     "output_type": "stream",
     "text": [
      "                                                                                "
     ]
    }
   ],
   "source": [
    "from pyspark.sql.functions import udf\n",
    "from pyspark.sql.types import StringType\n",
    "\n",
    "# Define the mapping dictionary for colors\n",
    "COLORS = { \n",
    "   'AL': 'Aluminum', 'AM': 'Amber', 'BG': 'Beige', 'BK': 'Black',  \n",
    "   'BL': 'Blue', 'BN': 'Brown', 'BR': 'Brown', 'BZ': 'Bronze',  \n",
    "   'CH': 'Charcoal', 'DK': 'Dark', 'GD': 'Gold', 'GO': 'Gold',  \n",
    "   'GN': 'Green', 'GY': 'Gray', 'GT': 'Granite', 'IV': 'Ivory',  \n",
    "   'LT': 'Light', 'OL': 'Olive', 'OR': 'Orange', 'MR': 'Maroon',  \n",
    "   'PK': 'Pink', 'RD': 'Red', 'RE': 'Red', 'SI': 'Silver', 'SL': 'Silver',  \n",
    "   'SM': 'Smoke', 'TN': 'Tan', 'VT': 'Violet', 'WT': 'White', 'WH': 'White',  \n",
    "   'YL': 'Yellow', 'YE': 'Yellow', 'UN': 'Unknown' \n",
    "}\n",
    "\n",
    "# Create a UDF to expand color abbreviations\n",
    "def expand_color(color):\n",
    "    return COLORS.get(color, color)  # Return mapped color or original if not found\n",
    "\n",
    "# Register the UDF with Spark\n",
    "expand_color_udf = udf(expand_color, StringType())\n",
    "\n",
    "# Apply the UDF to create a new column 'color_long'\n",
    "df = df.withColumn(\"color_long\", expand_color_udf(df[\"Color\"]))\n",
    "\n",
    "# Show some sample data to verify the transformation\n",
    "df.select(\"Color\", \"color_long\").show(10, truncate=False)\n"
   ]
  },
  {
   "cell_type": "markdown",
   "id": "b87681f3-c7d3-4af3-bfe4-64be39a52fe3",
   "metadata": {},
   "source": [
    "B.9"
   ]
  },
  {
   "cell_type": "code",
   "execution_count": 21,
   "id": "c965d975-8015-41b4-899e-7e67c1a9ad4d",
   "metadata": {},
   "outputs": [
    {
     "name": "stderr",
     "output_type": "stream",
     "text": [
      "[Stage 57:====================================================>   (15 + 1) / 16]"
     ]
    },
    {
     "name": "stdout",
     "output_type": "stream",
     "text": [
      "+----------+------+\n",
      "|color_long|count |\n",
      "+----------+------+\n",
      "|Gray      |489697|\n",
      "+----------+------+\n",
      "only showing top 1 row\n",
      "\n"
     ]
    },
    {
     "name": "stderr",
     "output_type": "stream",
     "text": [
      "                                                                                "
     ]
    }
   ],
   "source": [
    "from pyspark.sql.functions import count, desc\n",
    "\n",
    "# Filter for Toyota (TOYT) vehicles\n",
    "toyota_df = df.filter(df[\"Make\"] == \"TOYT\")\n",
    "\n",
    "# Count occurrences of each color\n",
    "toyota_color_counts = toyota_df.groupBy(\"color_long\") \\\n",
    "    .agg(count(\"*\").alias(\"count\")) \\\n",
    "    .orderBy(desc(\"count\"))\n",
    "\n",
    "# Show the most frequent color for Toyota vehicles\n",
    "toyota_color_counts.show(1, truncate=False)\n"
   ]
  },
  {
   "cell_type": "code",
   "execution_count": null,
   "id": "36873802-8421-4d67-b299-5dbf8082cad1",
   "metadata": {},
   "outputs": [],
   "source": []
  }
 ],
 "metadata": {
  "kernelspec": {
   "display_name": "Python 3 (ipykernel)",
   "language": "python",
   "name": "python3"
  },
  "language_info": {
   "codemirror_mode": {
    "name": "ipython",
    "version": 3
   },
   "file_extension": ".py",
   "mimetype": "text/x-python",
   "name": "python",
   "nbconvert_exporter": "python",
   "pygments_lexer": "ipython3",
   "version": "3.10.12"
  }
 },
 "nbformat": 4,
 "nbformat_minor": 5
}
