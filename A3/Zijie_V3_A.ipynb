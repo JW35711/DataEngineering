{
 "cells": [
  {
   "cell_type": "code",
   "execution_count": 1,
   "id": "999e6303-59bc-4cc7-8478-acb68bfc89ae",
   "metadata": {},
   "outputs": [
    {
     "name": "stderr",
     "output_type": "stream",
     "text": [
      "Setting default log level to \"WARN\".\n",
      "To adjust logging level use sc.setLogLevel(newLevel). For SparkR, use setLogLevel(newLevel).\n",
      "25/03/10 10:24:32 WARN NativeCodeLoader: Unable to load native-hadoop library for your platform... using builtin-java classes where applicable\n"
     ]
    }
   ],
   "source": [
    "from pyspark.sql import SparkSession\n",
    "from operator import add\n",
    "\n",
    "spark_session = SparkSession.builder \\\n",
    "        .master(\"spark://192.168.2.156:7077\") \\\n",
    "        .appName(\"Zijie_V3_A\") \\\n",
    "        .config(\"spark.dynamicAllocation.enabled\", True) \\\n",
    "        .config(\"spark.dynamicAllocation.shuffleTracking.enabled\", True) \\\n",
    "        .config(\"spark.shuffle.service.enabled\", False) \\\n",
    "        .config(\"spark.dynamicAllocation.executorIdleTimeout\", \"30s\") \\\n",
    "        .config(\"spark.executor.cores\", 2) \\\n",
    "        .config(\"spark.driver.port\", 9999) \\\n",
    "        .config(\"spark.blockManager.port\", 10005) \\\n",
    "        .getOrCreate()\n",
    "\n",
    "# RDD API\n",
    "spark_context = spark_session.sparkContext\n",
    "spark_context.setLogLevel(\"ERROR\")"
   ]
  },
  {
   "cell_type": "code",
   "execution_count": null,
   "id": "ebc9fa01-e277-4757-9349-a5e4103eb26f",
   "metadata": {},
   "outputs": [],
   "source": [
    "spark_session.stop()"
   ]
  },
  {
   "cell_type": "markdown",
   "id": "27ee9523-250e-40a2-9825-2d52fbba53ae",
   "metadata": {},
   "source": [
    "A.1"
   ]
  },
  {
   "cell_type": "code",
   "execution_count": 5,
   "id": "cadaf9d4-7fae-43eb-b085-028837daf006",
   "metadata": {},
   "outputs": [
    {
     "name": "stderr",
     "output_type": "stream",
     "text": [
      "[Stage 2:>                                                          (0 + 2) / 2]"
     ]
    },
    {
     "name": "stdout",
     "output_type": "stream",
     "text": [
      "the number of lines of English RDD: 1862234\n"
     ]
    },
    {
     "name": "stderr",
     "output_type": "stream",
     "text": [
      "                                                                                "
     ]
    }
   ],
   "source": [
    "# Load English text data from HDFS\n",
    "english_rdd = spark_context.textFile(\"hdfs://192.168.2.156:9000/data/europarl/europarl-v7.sv-en.en\")\n",
    "\n",
    "# Count the number of lines in English RDD\n",
    "english_line_count = english_rdd.count()\n",
    "print(\"the number of lines of English RDD:\", english_line_count)\n"
   ]
  },
  {
   "cell_type": "code",
   "execution_count": 6,
   "id": "af2a675c-9f41-49ea-893f-9ff119100ada",
   "metadata": {},
   "outputs": [
    {
     "name": "stderr",
     "output_type": "stream",
     "text": [
      "[Stage 3:=======================================>                   (2 + 1) / 3]"
     ]
    },
    {
     "name": "stdout",
     "output_type": "stream",
     "text": [
      "the number of lines of Swedish RDD: 1862234\n"
     ]
    },
    {
     "name": "stderr",
     "output_type": "stream",
     "text": [
      "                                                                                "
     ]
    }
   ],
   "source": [
    "# Load Swedish text data from HDFS\n",
    "swedish_rdd = spark_context.textFile(\"hdfs://192.168.2.156:9000/data/europarl/europarl-v7.sv-en.sv\")\n",
    "\n",
    "# Count the number of lines in Swedish RDD\n",
    "swedish_line_count = swedish_rdd.count()\n",
    "print(\"the number of lines of Swedish RDD:\", swedish_line_count)\n"
   ]
  },
  {
   "cell_type": "code",
   "execution_count": 10,
   "id": "ba0fefe2-a59f-4c1a-a2df-ecd182c781d1",
   "metadata": {},
   "outputs": [
    {
     "name": "stdout",
     "output_type": "stream",
     "text": [
      "The line counts match between English and Swedish RDDs!\n"
     ]
    }
   ],
   "source": [
    "if english_line_count == swedish_line_count:\n",
    "    print(\"The line counts match between English and Swedish RDDs!\")\n",
    "else:\n",
    "    print(\"Line counts do NOT match, check the data sources!\")\n"
   ]
  },
  {
   "cell_type": "code",
   "execution_count": 8,
   "id": "a16a3a7a-b0b8-4d70-9720-40587fba4f06",
   "metadata": {},
   "outputs": [
    {
     "name": "stdout",
     "output_type": "stream",
     "text": [
      "English RDD has 2 partitions.\n",
      "Swedish RDD has 3 partitions.\n"
     ]
    }
   ],
   "source": [
    "# Check number of partitions\n",
    "english_partitions = english_rdd.getNumPartitions()\n",
    "swedish_partitions = swedish_rdd.getNumPartitions()\n",
    "\n",
    "print(f\"English RDD has {english_partitions} partitions.\")\n",
    "print(f\"Swedish RDD has {swedish_partitions} partitions.\")\n"
   ]
  },
  {
   "cell_type": "markdown",
   "id": "e31e7a46-566c-4f30-86fb-ef041fbecccd",
   "metadata": {},
   "source": [
    "A.2"
   ]
  },
  {
   "cell_type": "code",
   "execution_count": 11,
   "id": "b2fa1218-eb98-4691-81a0-31c1627bbc5c",
   "metadata": {},
   "outputs": [
    {
     "name": "stdout",
     "output_type": "stream",
     "text": [
      "Sample of preprocessed English RDD:\n"
     ]
    },
    {
     "name": "stderr",
     "output_type": "stream",
     "text": [
      "                                                                                "
     ]
    },
    {
     "name": "stdout",
     "output_type": "stream",
     "text": [
      "[['resumption', 'of', 'the', 'session'], ['i', 'declare', 'resumed', 'the', 'session', 'of', 'the', 'european', 'parliament', 'adjourned', 'on', 'friday', '17', 'december', '1999,', 'and', 'i', 'would', 'like', 'once', 'again', 'to', 'wish', 'you', 'a', 'happy', 'new', 'year', 'in', 'the', 'hope', 'that', 'you', 'enjoyed', 'a', 'pleasant', 'festive', 'period.'], ['although,', 'as', 'you', 'will', 'have', 'seen,', 'the', 'dreaded', \"'millennium\", \"bug'\", 'failed', 'to', 'materialise,', 'still', 'the', 'people', 'in', 'a', 'number', 'of', 'countries', 'suffered', 'a', 'series', 'of', 'natural', 'disasters', 'that', 'truly', 'were', 'dreadful.'], ['you', 'have', 'requested', 'a', 'debate', 'on', 'this', 'subject', 'in', 'the', 'course', 'of', 'the', 'next', 'few', 'days,', 'during', 'this', 'part-session.'], ['in', 'the', 'meantime,', 'i', 'should', 'like', 'to', 'observe', 'a', \"minute'\", 's', 'silence,', 'as', 'a', 'number', 'of', 'members', 'have', 'requested,', 'on', 'behalf', 'of', 'all', 'the', 'victims', 'concerned,', 'particularly', 'those', 'of', 'the', 'terrible', 'storms,', 'in', 'the', 'various', 'countries', 'of', 'the', 'european', 'union.'], ['please', 'rise,', 'then,', 'for', 'this', \"minute'\", 's', 'silence.'], ['(the', 'house', 'rose', 'and', 'observed', 'a', \"minute'\", 's', 'silence)'], ['madam', 'president,', 'on', 'a', 'point', 'of', 'order.'], ['you', 'will', 'be', 'aware', 'from', 'the', 'press', 'and', 'television', 'that', 'there', 'have', 'been', 'a', 'number', 'of', 'bomb', 'explosions', 'and', 'killings', 'in', 'sri', 'lanka.'], ['one', 'of', 'the', 'people', 'assassinated', 'very', 'recently', 'in', 'sri', 'lanka', 'was', 'mr', 'kumar', 'ponnambalam,', 'who', 'had', 'visited', 'the', 'european', 'parliament', 'just', 'a', 'few', 'months', 'ago.']]\n",
      "Sample of preprocessed Swedish RDD:\n"
     ]
    },
    {
     "name": "stderr",
     "output_type": "stream",
     "text": [
      "                                                                                "
     ]
    },
    {
     "name": "stdout",
     "output_type": "stream",
     "text": [
      "[['återupptagande', 'av', 'sessionen'], ['jag', 'förklarar', 'europaparlamentets', 'session', 'återupptagen', 'efter', 'avbrottet', 'den', '17', 'december.', 'jag', 'vill', 'på', 'nytt', 'önska', 'er', 'ett', 'gott', 'nytt', 'år', 'och', 'jag', 'hoppas', 'att', 'ni', 'haft', 'en', 'trevlig', 'semester.'], ['som', 'ni', 'kunnat', 'konstatera', 'ägde', '\"den', 'stora', 'år', '2000-buggen\"', 'aldrig', 'rum.', 'däremot', 'har', 'invånarna', 'i', 'ett', 'antal', 'av', 'våra', 'medlemsländer', 'drabbats', 'av', 'naturkatastrofer', 'som', 'verkligen', 'varit', 'förskräckliga.'], ['ni', 'har', 'begärt', 'en', 'debatt', 'i', 'ämnet', 'under', 'sammanträdesperiodens', 'kommande', 'dagar.'], ['till', 'dess', 'vill', 'jag', 'att', 'vi,', 'som', 'ett', 'antal', 'kolleger', 'begärt,', 'håller', 'en', 'tyst', 'minut', 'för', 'offren', 'för', 'bl.a.', 'stormarna', 'i', 'de', 'länder', 'i', 'europeiska', 'unionen', 'som', 'drabbats.'], ['jag', 'ber', 'er', 'resa', 'er', 'för', 'en', 'tyst', 'minut.'], ['(parlamentet', 'höll', 'en', 'tyst', 'minut.)'], ['fru', 'talman!', 'det', 'gäller', 'en', 'ordningsfråga.'], ['ni', 'känner', 'till', 'från', 'media', 'att', 'det', 'skett', 'en', 'rad', 'bombexplosioner', 'och', 'mord', 'i', 'sri', 'lanka.'], ['en', 'av', 'de', 'personer', 'som', 'mycket', 'nyligen', 'mördades', 'i', 'sri', 'lanka', 'var', 'kumar', 'ponnambalam,', 'som', 'besökte', 'europaparlamentet', 'för', 'bara', 'några', 'månader', 'sedan.']]\n"
     ]
    },
    {
     "name": "stderr",
     "output_type": "stream",
     "text": [
      "[Stage 11:======================================>                   (2 + 1) / 3]"
     ]
    },
    {
     "name": "stdout",
     "output_type": "stream",
     "text": [
      "The line counts still match after preprocessing!\n"
     ]
    },
    {
     "name": "stderr",
     "output_type": "stream",
     "text": [
      "                                                                                "
     ]
    }
   ],
   "source": [
    "# Define a function to lowercase and tokenize text\n",
    "def preprocess_text(line):\n",
    "    return line.lower().split()  # Convert to lowercase and split by space\n",
    "\n",
    "# Apply text preprocessing to English RDD\n",
    "preprocessed_english_rdd = english_rdd.map(preprocess_text)\n",
    "\n",
    "# Apply text preprocessing to Swedish RDD\n",
    "preprocessed_swedish_rdd = swedish_rdd.map(preprocess_text)\n",
    "\n",
    "# Show 10 entries from preprocessed English RDD\n",
    "print(\"Sample of preprocessed English RDD:\")\n",
    "print(preprocessed_english_rdd.take(10))\n",
    "\n",
    "# Show 10 entries from preprocessed Swedish RDD\n",
    "print(\"Sample of preprocessed Swedish RDD:\")\n",
    "print(preprocessed_swedish_rdd.take(10))\n",
    "\n",
    "preprocessed_english_line_count = preprocessed_english_rdd.count()\n",
    "preprocessed_swedish_line_count = preprocessed_swedish_rdd.count()\n",
    "\n",
    "if preprocessed_english_line_count == preprocessed_swedish_line_count:\n",
    "    print(\"The line counts still match after preprocessing!\")\n",
    "else:\n",
    "    print(\"Line counts do NOT match after preprocessing!\")\n"
   ]
  },
  {
   "cell_type": "markdown",
   "id": "78071cca-bae9-4810-bb57-a02bd3222976",
   "metadata": {},
   "source": [
    "A.3"
   ]
  },
  {
   "cell_type": "code",
   "execution_count": 12,
   "id": "52264152-db8f-4746-a108-fb6c25b37fc0",
   "metadata": {},
   "outputs": [
    {
     "name": "stderr",
     "output_type": "stream",
     "text": [
      "                                                                                "
     ]
    },
    {
     "name": "stdout",
     "output_type": "stream",
     "text": [
      "🔹 Top 10 words in English corpus: [('the', 3498574), ('of', 1659884), ('to', 1539823), ('and', 1288620), ('in', 1086089), ('that', 797576), ('a', 773812), ('is', 758087), ('for', 534270), ('we', 522879)]\n"
     ]
    },
    {
     "name": "stderr",
     "output_type": "stream",
     "text": [
      "[Stage 15:======================================>                   (2 + 1) / 3]"
     ]
    },
    {
     "name": "stdout",
     "output_type": "stream",
     "text": [
      "🔹 Top 10 words in Swedish corpus: [('att', 1706309), ('och', 1344895), ('i', 1050989), ('det', 924878), ('som', 913302), ('för', 908703), ('av', 738102), ('är', 694389), ('en', 620347), ('vi', 539808)]\n"
     ]
    },
    {
     "name": "stderr",
     "output_type": "stream",
     "text": [
      "                                                                                "
     ]
    }
   ],
   "source": [
    "from operator import add\n",
    "\n",
    "# Count word frequency in English corpus\n",
    "english_word_counts = preprocessed_english_rdd.flatMap(lambda line: line) \\\n",
    "                                              .map(lambda word: (word, 1)) \\\n",
    "                                              .reduceByKey(add)\n",
    "\n",
    "# Count word frequency in Swedish corpus\n",
    "swedish_word_counts = preprocessed_swedish_rdd.flatMap(lambda line: line) \\\n",
    "                                              .map(lambda word: (word, 1)) \\\n",
    "                                              .reduceByKey(add)\n",
    "\n",
    "# Get top 10 most frequent words in English corpus\n",
    "top_10_english_words = english_word_counts.takeOrdered(10, key=lambda x: -x[1])\n",
    "print(\"🔹 Top 10 words in English corpus:\", top_10_english_words)\n",
    "\n",
    "# Get top 10 most frequent words in Swedish corpus\n",
    "top_10_swedish_words = swedish_word_counts.takeOrdered(10, key=lambda x: -x[1])\n",
    "print(\"🔹 Top 10 words in Swedish corpus:\", top_10_swedish_words)\n"
   ]
  },
  {
   "cell_type": "markdown",
   "id": "0a224ec7-5bfa-431d-9c61-9448c5187eb0",
   "metadata": {},
   "source": [
    "A.4"
   ]
  },
  {
   "cell_type": "code",
   "execution_count": 13,
   "id": "da5e6312-a327-4027-a018-9a386e5c6264",
   "metadata": {},
   "outputs": [
    {
     "name": "stderr",
     "output_type": "stream",
     "text": [
      "[Stage 19:==============================================>           (4 + 1) / 5]"
     ]
    },
    {
     "name": "stdout",
     "output_type": "stream",
     "text": [
      "Top 10 translation word pairs: [(('is', 'är'), 10070), (('we', 'vi'), 5539), (('i', 'jag'), 5040), (('this', 'detta'), 3257), (('closed.', 'avslutad.'), 2980), (('and', 'och'), 2926), (('a', 'en'), 2892), (('it', 'det'), 2868), (('that', 'det'), 2807), (('not', 'inte'), 2652)]\n"
     ]
    },
    {
     "name": "stderr",
     "output_type": "stream",
     "text": [
      "                                                                                "
     ]
    }
   ],
   "source": [
    "# Assign an index to each line in both RDDs\n",
    "english_indexed_rdd = preprocessed_english_rdd.zipWithIndex().map(lambda x: (x[1], x[0]))\n",
    "swedish_indexed_rdd = preprocessed_swedish_rdd.zipWithIndex().map(lambda x: (x[1], x[0]))\n",
    "\n",
    "# Join both RDDs using the line index as the key\n",
    "aligned_sentences_rdd = english_indexed_rdd.join(swedish_indexed_rdd)\n",
    "\n",
    "# Filter out empty/missing sentences\n",
    "filtered_sentences_rdd = aligned_sentences_rdd.filter(lambda x: x[1][0] and x[1][1])\n",
    "\n",
    "# Keep only short sentences (e.g., less than 10 words)\n",
    "filtered_sentences_rdd = filtered_sentences_rdd.filter(lambda x: len(x[1][0]) < 10 and len(x[1][1]) < 10)\n",
    "\n",
    "# Keep only sentences with the same number of words\n",
    "filtered_sentences_rdd = filtered_sentences_rdd.filter(lambda x: len(x[1][0]) == len(x[1][1]))\n",
    "\n",
    "# Generate word pairs (word in English, corresponding word in Swedish)\n",
    "word_pairs_rdd = filtered_sentences_rdd.flatMap(lambda x: zip(x[1][0], x[1][1]))\n",
    "\n",
    "from operator import add\n",
    "\n",
    "# Count occurrences of each translation pair\n",
    "word_pair_counts = word_pairs_rdd.map(lambda pair: (pair, 1)).reduceByKey(add)\n",
    "\n",
    "# Get top 10 most frequent translation pairs\n",
    "top_10_word_pairs = word_pair_counts.takeOrdered(10, key=lambda x: -x[1])\n",
    "print(\"Top 10 translation word pairs:\", top_10_word_pairs)\n"
   ]
  },
  {
   "cell_type": "code",
   "execution_count": null,
   "id": "cd0bc630-6ae2-49d8-ab9b-8fbdac7842d5",
   "metadata": {},
   "outputs": [],
   "source": []
  }
 ],
 "metadata": {
  "kernelspec": {
   "display_name": "Python 3 (ipykernel)",
   "language": "python",
   "name": "python3"
  },
  "language_info": {
   "codemirror_mode": {
    "name": "ipython",
    "version": 3
   },
   "file_extension": ".py",
   "mimetype": "text/x-python",
   "name": "python",
   "nbconvert_exporter": "python",
   "pygments_lexer": "ipython3",
   "version": "3.10.12"
  }
 },
 "nbformat": 4,
 "nbformat_minor": 5
}
